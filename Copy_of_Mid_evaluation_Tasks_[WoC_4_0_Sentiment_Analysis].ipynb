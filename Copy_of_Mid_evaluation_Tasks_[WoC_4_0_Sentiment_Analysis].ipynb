{
  "nbformat": 4,
  "nbformat_minor": 0,
  "metadata": {
    "colab": {
      "name": "Copy of Mid-evaluation Tasks [WoC 4.0: Sentiment Analysis].ipynb",
      "provenance": [],
      "collapsed_sections": [],
      "include_colab_link": true
    },
    "kernelspec": {
      "name": "python3",
      "display_name": "Python 3"
    },
    "language_info": {
      "name": "python"
    }
  },
  "cells": [
    {
      "cell_type": "markdown",
      "metadata": {
        "id": "view-in-github",
        "colab_type": "text"
      },
      "source": [
        "<a href=\"https://colab.research.google.com/github/kenilv/woc4.0-ml-sentiment-analysis-Kenil-Vaghasiya/blob/main/Copy_of_Mid_evaluation_Tasks_%5BWoC_4_0_Sentiment_Analysis%5D.ipynb\" target=\"_parent\"><img src=\"https://colab.research.google.com/assets/colab-badge.svg\" alt=\"Open In Colab\"/></a>"
      ]
    },
    {
      "cell_type": "markdown",
      "source": [
        "# Pre-reqs"
      ],
      "metadata": {
        "id": "1JcCWwVD3xXm"
      }
    },
    {
      "cell_type": "code",
      "source": [
        "!pip install mmh3"
      ],
      "metadata": {
        "colab": {
          "base_uri": "https://localhost:8080/"
        },
        "id": "_Vv791_wv58d",
        "outputId": "81c0bfa2-0c5e-4396-f68d-fd1648a6f255"
      },
      "execution_count": 36,
      "outputs": [
        {
          "output_type": "stream",
          "name": "stdout",
          "text": [
            "Requirement already satisfied: mmh3 in /usr/local/lib/python3.7/dist-packages (3.0.0)\n"
          ]
        }
      ]
    },
    {
      "cell_type": "code",
      "execution_count": 37,
      "metadata": {
        "id": "0KC5gVN0vUr1"
      },
      "outputs": [],
      "source": [
        "import numpy as np\n",
        "import pandas as pd\n",
        "import mmh3"
      ]
    },
    {
      "cell_type": "markdown",
      "source": [
        "# Task 1"
      ],
      "metadata": {
        "id": "EQFRAh6Pv_sa"
      }
    },
    {
      "cell_type": "markdown",
      "source": [
        "## Stopwords Removal"
      ],
      "metadata": {
        "id": "nfhvKV57GLjq"
      }
    },
    {
      "cell_type": "markdown",
      "source": [
        " In this exercise you have to remove stopwords from a given **Initial** text and convert the text into the **Final** text given to you \n",
        "\n",
        "*Note - Please only write your code where it is mentioned to and do not change anything else*"
      ],
      "metadata": {
        "id": "wcklv4wFGUZ9"
      }
    },
    {
      "cell_type": "markdown",
      "source": [
        "**Intial text**\n",
        "\n",
        "> Sentiment analysis is the process of using natural language processing , text analysis , and statistics to analyze customer sentiment .\n",
        "\n",
        "\n",
        "**Final text**\n",
        "\n",
        "> Sentiment is process using natural language processing , text , statistics analyze customer ."
      ],
      "metadata": {
        "id": "6TMIz90TGk__"
      }
    },
    {
      "cell_type": "code",
      "execution_count": 38,
      "metadata": {
        "id": "VvSIL7XR_0AC",
        "colab": {
          "base_uri": "https://localhost:8080/"
        },
        "outputId": "c778e756-7df4-4f49-e7fc-270d235e762d"
      },
      "outputs": [
        {
          "output_type": "stream",
          "name": "stdout",
          "text": [
            "[nltk_data] Downloading package punkt to /root/nltk_data...\n",
            "[nltk_data]   Package punkt is already up-to-date!\n",
            "[nltk_data] Downloading package stopwords to /root/nltk_data...\n",
            "[nltk_data]   Package stopwords is already up-to-date!\n"
          ]
        }
      ],
      "source": [
        "import nltk\n",
        "nltk.download('punkt')\n",
        "from nltk.corpus import stopwords\n",
        "nltk.download('stopwords')\n",
        "from nltk.tokenize import word_tokenize\n"
      ]
    },
    {
      "cell_type": "markdown",
      "source": [
        "## Tokenize your text"
      ],
      "metadata": {
        "id": "DRF0hW7uGHGN"
      }
    },
    {
      "cell_type": "code",
      "source": [
        "text = \"Sentiment analysis is the process of using natural language processing , text analysis , and statistics to analyze customer sentiment .\""
      ],
      "metadata": {
        "id": "lsOP7BsC_8oo"
      },
      "execution_count": 39,
      "outputs": []
    },
    {
      "cell_type": "code",
      "source": [
        "text_tokens = word_tokenize(text)\n",
        "#write your code here to convert sentence into work tokens using function word_tokenize#"
      ],
      "metadata": {
        "id": "LoqIzFvdAQD3"
      },
      "execution_count": 40,
      "outputs": []
    },
    {
      "cell_type": "code",
      "source": [
        "print(text_tokens)"
      ],
      "metadata": {
        "id": "yxQRfHDQAcrX",
        "colab": {
          "base_uri": "https://localhost:8080/"
        },
        "outputId": "7eeceb77-60d9-4435-adf8-ed54a129dc15"
      },
      "execution_count": 41,
      "outputs": [
        {
          "output_type": "stream",
          "name": "stdout",
          "text": [
            "['Sentiment', 'analysis', 'is', 'the', 'process', 'of', 'using', 'natural', 'language', 'processing', ',', 'text', 'analysis', ',', 'and', 'statistics', 'to', 'analyze', 'customer', 'sentiment', '.']\n"
          ]
        }
      ]
    },
    {
      "cell_type": "markdown",
      "source": [
        "*Expected output*\n",
        "\n",
        "['Sentiment', 'analysis', 'is', 'the', 'process', 'of', 'using', 'natural', 'language', 'processing', ',', 'text', 'analysis', ',', 'and', 'statistics', 'to', 'analyze', 'customer', 'sentiment', '.']"
      ],
      "metadata": {
        "id": "XVApTuyhHM_0"
      }
    },
    {
      "cell_type": "markdown",
      "source": [
        "## Creating the stopwords list"
      ],
      "metadata": {
        "id": "0ZIwl7E1HfXZ"
      }
    },
    {
      "cell_type": "code",
      "source": [
        "stopword_list = stopwords.words('english') # now stopword_list will be appended by already known common stopwords which can be seen by prinitng the list below #"
      ],
      "metadata": {
        "id": "gl9hYgbGEgVg"
      },
      "execution_count": 42,
      "outputs": []
    },
    {
      "cell_type": "code",
      "source": [
        "print(stopword_list)"
      ],
      "metadata": {
        "id": "bPiEJ434K0PU",
        "colab": {
          "base_uri": "https://localhost:8080/"
        },
        "outputId": "5e651c83-e529-460f-d31f-402571551c72"
      },
      "execution_count": 43,
      "outputs": [
        {
          "output_type": "stream",
          "name": "stdout",
          "text": [
            "['i', 'me', 'my', 'myself', 'we', 'our', 'ours', 'ourselves', 'you', \"you're\", \"you've\", \"you'll\", \"you'd\", 'your', 'yours', 'yourself', 'yourselves', 'he', 'him', 'his', 'himself', 'she', \"she's\", 'her', 'hers', 'herself', 'it', \"it's\", 'its', 'itself', 'they', 'them', 'their', 'theirs', 'themselves', 'what', 'which', 'who', 'whom', 'this', 'that', \"that'll\", 'these', 'those', 'am', 'is', 'are', 'was', 'were', 'be', 'been', 'being', 'have', 'has', 'had', 'having', 'do', 'does', 'did', 'doing', 'a', 'an', 'the', 'and', 'but', 'if', 'or', 'because', 'as', 'until', 'while', 'of', 'at', 'by', 'for', 'with', 'about', 'against', 'between', 'into', 'through', 'during', 'before', 'after', 'above', 'below', 'to', 'from', 'up', 'down', 'in', 'out', 'on', 'off', 'over', 'under', 'again', 'further', 'then', 'once', 'here', 'there', 'when', 'where', 'why', 'how', 'all', 'any', 'both', 'each', 'few', 'more', 'most', 'other', 'some', 'such', 'no', 'nor', 'not', 'only', 'own', 'same', 'so', 'than', 'too', 'very', 's', 't', 'can', 'will', 'just', 'don', \"don't\", 'should', \"should've\", 'now', 'd', 'll', 'm', 'o', 're', 've', 'y', 'ain', 'aren', \"aren't\", 'couldn', \"couldn't\", 'didn', \"didn't\", 'doesn', \"doesn't\", 'hadn', \"hadn't\", 'hasn', \"hasn't\", 'haven', \"haven't\", 'isn', \"isn't\", 'ma', 'mightn', \"mightn't\", 'mustn', \"mustn't\", 'needn', \"needn't\", 'shan', \"shan't\", 'shouldn', \"shouldn't\", 'wasn', \"wasn't\", 'weren', \"weren't\", 'won', \"won't\", 'wouldn', \"wouldn't\"]\n"
          ]
        }
      ]
    },
    {
      "cell_type": "code",
      "source": [
        "# Append and Remove some stopwords from the list such that after removing stopwords from intial text using stopwords_list you can get final text\n",
        "\n",
        "stopword_list.append('analysis')\n",
        "stopword_list.append('sentiment')\n",
        "stopword_list.remove('is')\n",
        "\n",
        "# ...\n",
        "# write your code here \n",
        "# ... "
      ],
      "metadata": {
        "id": "Q3zBIboZH-ct"
      },
      "execution_count": 44,
      "outputs": []
    },
    {
      "cell_type": "code",
      "source": [
        " #Remove all tokens from text_tokens which are also present in stopword_list and store remaining tokens in sw_filtered_text#\n",
        "\n",
        "stop_words = set(stopword_list)\n",
        "sw_filtered_text = [w for w in text_tokens if not w.lower() in stop_words]\n",
        "sw_filtered_text = []\n",
        "for w in text_tokens:\n",
        "    if w not in stop_words:\n",
        "        sw_filtered_text.append(w)\n",
        "\n",
        " #...\n",
        " # write your code here (Hint - create a list named sw_filtered_text fulfilling above criteria)\n",
        " #.."
      ],
      "metadata": {
        "id": "MFh_nGN1DRpy"
      },
      "execution_count": 45,
      "outputs": []
    },
    {
      "cell_type": "code",
      "source": [
        "print(sw_filtered_text)"
      ],
      "metadata": {
        "id": "56k3icocDR74",
        "colab": {
          "base_uri": "https://localhost:8080/"
        },
        "outputId": "8651b199-823b-4b6a-e77a-0f650b03a6ec"
      },
      "execution_count": 46,
      "outputs": [
        {
          "output_type": "stream",
          "name": "stdout",
          "text": [
            "['Sentiment', 'is', 'process', 'using', 'natural', 'language', 'processing', ',', 'text', ',', 'statistics', 'analyze', 'customer', '.']\n"
          ]
        }
      ]
    },
    {
      "cell_type": "markdown",
      "source": [
        "*Expected output*\n",
        "\n",
        "['Sentiment', 'is', 'process', 'using', 'natural', 'language', 'processing', ',', 'text', ',', 'statistics', 'analyze', 'customer', '.']"
      ],
      "metadata": {
        "id": "aoI798IQJjRz"
      }
    },
    {
      "cell_type": "markdown",
      "source": [
        "## Output"
      ],
      "metadata": {
        "id": "nd80wGJQAewo"
      }
    },
    {
      "cell_type": "code",
      "source": [
        "sw_filtered_text = (\" \").join(sw_filtered_text)\n",
        "print(sw_filtered_text)\n",
        "\n",
        "\n",
        "# The above code will join all the tokens in the final list now check whether your output with the final text given to you or not."
      ],
      "metadata": {
        "id": "P6MRAcAFErFM",
        "colab": {
          "base_uri": "https://localhost:8080/"
        },
        "outputId": "87d45600-1587-4be6-ff33-420169287380"
      },
      "execution_count": 47,
      "outputs": [
        {
          "output_type": "stream",
          "name": "stdout",
          "text": [
            "Sentiment is process using natural language processing , text , statistics analyze customer .\n"
          ]
        }
      ]
    },
    {
      "cell_type": "markdown",
      "source": [
        "# Task 2"
      ],
      "metadata": {
        "id": "IKT900gTwFbo"
      }
    },
    {
      "cell_type": "markdown",
      "source": [
        "## Stemming"
      ],
      "metadata": {
        "id": "jGMPQJMf4oZ1"
      }
    },
    {
      "cell_type": "markdown",
      "source": [
        "In this exercise, with the given input, produce the given output by stemming the previously tokenized words.\n",
        "\n",
        "*Note - Write your code only where it is mentioned to and keep everything else unchanged.*"
      ],
      "metadata": {
        "id": "cryVbEXp4oZ2"
      }
    },
    {
      "cell_type": "markdown",
      "source": [
        "**Input**\n",
        "> ['Constantly', 'concentrating', 'nearby', 'object', 'may', 'lead', 'one', 'feel', 'strain' 'eyes']\n",
        "\n",
        "\n",
        "\n",
        "**Output**\n",
        "> ['Constant', 'concentrat', 'near', 'object', 'may', 'lead', 'on', 'feel', 'strain' 'ey']"
      ],
      "metadata": {
        "id": "BD1VxLUF4oZ2"
      }
    },
    {
      "cell_type": "code",
      "source": [
        "stemmed_tockens = # Your code here"
      ],
      "metadata": {
        "id": "ljE4xRlO-eOc",
        "colab": {
          "base_uri": "https://localhost:8080/",
          "height": 136
        },
        "outputId": "007416b3-8cc3-4275-d4d5-22c02f8131ae"
      },
      "execution_count": 48,
      "outputs": [
        {
          "output_type": "error",
          "ename": "SyntaxError",
          "evalue": "ignored",
          "traceback": [
            "\u001b[0;36m  File \u001b[0;32m\"<ipython-input-48-1f84f71160e8>\"\u001b[0;36m, line \u001b[0;32m1\u001b[0m\n\u001b[0;31m    stemmed_tockens = # Your code here\u001b[0m\n\u001b[0m                                      ^\u001b[0m\n\u001b[0;31mSyntaxError\u001b[0m\u001b[0;31m:\u001b[0m invalid syntax\n"
          ]
        }
      ]
    },
    {
      "cell_type": "code",
      "source": [
        "# Final output\n",
        "stemmed_tockens"
      ],
      "metadata": {
        "id": "BInjGAZw-qSC"
      },
      "execution_count": null,
      "outputs": []
    },
    {
      "cell_type": "markdown",
      "source": [
        "Questionnaire:\n",
        "1. Have you written an entire function for stemming? - YES/NO\n",
        "2. Have you used any pre-built library for this task? - YES/NO\n",
        "3. Name the library used (write NA if not used): _______"
      ],
      "metadata": {
        "id": "KNKHhvCW-xVS"
      }
    },
    {
      "cell_type": "markdown",
      "source": [
        "# Task 3"
      ],
      "metadata": {
        "id": "IOMr50QBwHQw"
      }
    },
    {
      "cell_type": "markdown",
      "source": [
        "## The Hashing Trick"
      ],
      "metadata": {
        "id": "FDCBJRLvwJbq"
      }
    },
    {
      "cell_type": "markdown",
      "source": [
        "The conventional Bag of Words method involves formation of vocabulary out of all the available tokens in the given text and later, building features out of the vocabulary using frequencies of tokens or just their presence (1s or 0s). Feature hashing or the hashing trick helps overcome some of the major limitations of conventional Bag of Words like growing vocabulary with growing dataset size i.e. dimensionality reduction or dodging crafty corner cases. \n",
        "\n",
        "For some further details on Feature hashing, refer to these links:\n",
        "1. https://en.wikipedia.org/wiki/Feature_hashing\n",
        "2. https://medium.com/value-stream-design/introducing-one-of-the-best-hacks-in-machine-learning-the-hashing-trick-bf6a9c8af18f\n",
        "\n",
        "For this Task, given some arbitrary data in a DataFrame, implement Feature hashing manually using MurmurHash3 (using mmh3 module imported at the beginning) to hash each word and then modulo to build a feature vector as shown in the below example:\n",
        "\n",
        "\n",
        "---\n",
        "\n",
        "\n",
        "Example:\n",
        "\n",
        "**Dataset**\n",
        "\n",
        "| Text      | Label |\n",
        "| --------- | ----- |\n",
        "| Loved the service      | 1       |\n",
        "| Terrible food   | 0        |\n",
        "\n",
        "Using conventional bag of words, we would require 5 features for 5 unique words in both the sentences (loved, the, service, terrible, food).\n",
        "\n",
        "Let us use feature hashing such that output feature vector has 4 features (use modulo 4 after hashing)\n",
        "\n",
        "Sentence 1: Loved the service\n",
        "\n",
        "| Words      | Hash | Hash modulo 4 |\n",
        "| --------- | ----- | ------------- |\n",
        "| loved | 2334787929 | 1 |\n",
        "| the   | 3162218338 | 2 |\n",
        "| service | 3640852848 | 0 |\n",
        "\n",
        "Sentence 2: Terrible food\n",
        "\n",
        "| Words      | Hash | Hash modulo 4 |\n",
        "| --------- | ----- | ------------- |\n",
        "| terrible | 2800746226 | 2 |\n",
        "| food   | 2122679414 | 2 |\n",
        "\n",
        "Final feature vector:\n",
        "\n",
        "| Sentence      | Hash Feature 0 | Hash Feature 1 | Hash Feature 2 | Hash Feature 3 |\n",
        "| --------- | ----- | ------------- | ----- | ----- |\n",
        "| Loved the service | 1 | 1 | 1 | 0 |\n",
        "| Terrible food | 0 | 0 | 2 | 0 |\n",
        "\n",
        "Thus the output should be:\n",
        "\n",
        "\n",
        "```\n",
        "sample_output = [1, 1, 1, 0\n",
        "                 0, 0, 2, 0]\n",
        "```\n",
        "\n",
        "For the dataset given in the problem: \n",
        "\n",
        "- Required features: 1000\n",
        "\n",
        "- Hash function: mmh3 (must use unsigned hash)"
      ],
      "metadata": {
        "id": "Loy-mazWySll"
      }
    },
    {
      "cell_type": "markdown",
      "source": [
        "**NOTE: You should only use Pandas, NumPy and mmh3 for this task, if any other library is used, your submission will not be considered.**"
      ],
      "metadata": {
        "id": "DaAU0AMn7Jxz"
      }
    },
    {
      "cell_type": "code",
      "source": [
        "df = pd.read_csv('/content/data_BoW.csv')\n",
        "df"
      ],
      "metadata": {
        "id": "FiZm2ubU7XTL"
      },
      "execution_count": null,
      "outputs": []
    },
    {
      "cell_type": "code",
      "source": [
        "#your code here"
      ],
      "metadata": {
        "id": "SwNiRpMdD-5L"
      },
      "execution_count": null,
      "outputs": []
    }
  ]
}