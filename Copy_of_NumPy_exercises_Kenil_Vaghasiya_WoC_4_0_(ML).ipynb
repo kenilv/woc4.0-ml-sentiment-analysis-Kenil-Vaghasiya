{
  "nbformat": 4,
  "nbformat_minor": 0,
  "metadata": {
    "colab": {
      "name": "Copy of NumPy exercises - Kenil Vaghasiya - WoC 4.0 (ML)",
      "provenance": [],
      "collapsed_sections": [],
      "include_colab_link": true
    },
    "kernelspec": {
      "display_name": "Python 3",
      "name": "python3"
    }
  },
  "cells": [
    {
      "cell_type": "markdown",
      "metadata": {
        "id": "view-in-github",
        "colab_type": "text"
      },
      "source": [
        "<a href=\"https://colab.research.google.com/github/kenilv/woc4.0-ml-sentiment-analysis-Kenil-Vaghasiya/blob/main/Copy_of_NumPy_exercises_Kenil_Vaghasiya_WoC_4_0_(ML).ipynb\" target=\"_parent\"><img src=\"https://colab.research.google.com/assets/colab-badge.svg\" alt=\"Open In Colab\"/></a>"
      ]
    },
    {
      "cell_type": "code",
      "metadata": {
        "id": "EnhORJMC5NHc"
      },
      "source": [
        "import numpy as np"
      ],
      "execution_count": null,
      "outputs": []
    },
    {
      "cell_type": "markdown",
      "metadata": {
        "id": "dp92tsiV49wM"
      },
      "source": [
        "# Part 1: Creating ndarrays"
      ]
    },
    {
      "cell_type": "markdown",
      "metadata": {
        "id": "kI-sYE8f5L4P"
      },
      "source": [
        "1. Convert the below given list of strings to an int32 NumPy array"
      ]
    },
    {
      "cell_type": "code",
      "metadata": {
        "id": "E_nNMLpu5PE2"
      },
      "source": [
        "slist = ['2.5', '1.25', '0.024','2.999','1024.5']"
      ],
      "execution_count": null,
      "outputs": []
    },
    {
      "cell_type": "code",
      "metadata": {
        "id": "guqHmLhqWxzJ",
        "colab": {
          "base_uri": "https://localhost:8080/"
        },
        "outputId": "a397f5a3-7442-43da-a70f-59911defb748"
      },
      "source": [
        "dummy = np.array(slist)\n",
        "temp = dummy.astype(float)\n",
        "answer= temp.astype(int)\n",
        "print(answer)"
      ],
      "execution_count": null,
      "outputs": [
        {
          "output_type": "stream",
          "name": "stdout",
          "text": [
            "[   2    1    0    2 1024]\n"
          ]
        }
      ]
    },
    {
      "cell_type": "markdown",
      "metadata": {
        "id": "6uPLqLMu5Wo0"
      },
      "source": [
        "2. Create an empty 5x5 NumPy matrix"
      ]
    },
    {
      "cell_type": "code",
      "metadata": {
        "id": "cxRRTaVWWvqn"
      },
      "source": [
        "answer1 = np.empty((5, 5))\n",
        "# Write your code here"
      ],
      "execution_count": null,
      "outputs": []
    },
    {
      "cell_type": "markdown",
      "metadata": {
        "id": "AOdcEdnA5f3B"
      },
      "source": [
        "# Part 2: Operations between Arrays and Scalars"
      ]
    },
    {
      "cell_type": "markdown",
      "metadata": {
        "id": "tKvPKAct5lT_"
      },
      "source": [
        "3. Create a 1x7 Numpy array whose elements consist of a geometric progression with a = 1 & r = 3, terms are arranged indexwise, for ex"
      ]
    },
    {
      "cell_type": "code",
      "metadata": {
        "id": "m8hVg-mV5mAn"
      },
      "source": [
        "sample_output = [1,3,9,27,81]"
      ],
      "execution_count": null,
      "outputs": []
    },
    {
      "cell_type": "code",
      "metadata": {
        "id": "yRh4_XudW7YR",
        "colab": {
          "base_uri": "https://localhost:8080/"
        },
        "outputId": "48314f71-784e-4147-868a-913da1df2276"
      },
      "source": [
        "gp = [1 * 3**i for i in range(7)]\n",
        "answer2 = np.array(gp)\n",
        "print(answer2)\n",
        "# Write your code here"
      ],
      "execution_count": null,
      "outputs": [
        {
          "output_type": "stream",
          "name": "stdout",
          "text": [
            "[  1   3   9  27  81 243 729]\n"
          ]
        }
      ]
    },
    {
      "cell_type": "markdown",
      "metadata": {
        "id": "olRCl-v8_JR9"
      },
      "source": [
        "4. Transform each of the element of the below matrix according to the below equation\n",
        "\n",
        "    if x is an elements in input matrix, output matrix should have \n",
        "$1/(x^2 + 1)$ in its place\n",
        "\n"
      ]
    },
    {
      "cell_type": "code",
      "metadata": {
        "id": "7ZZoyVXZAq9G"
      },
      "source": [
        "mat = [[1,2,3],[4,5,6]]"
      ],
      "execution_count": null,
      "outputs": []
    },
    {
      "cell_type": "code",
      "metadata": {
        "id": "qc_muADhXCFh",
        "colab": {
          "base_uri": "https://localhost:8080/"
        },
        "outputId": "702f7c3b-375f-4ae7-eba2-54b6b767c382"
      },
      "source": [
        "def myfunc(z):\n",
        "    return 1/(1+ z**2)\n",
        "\n",
        "answer2a = np.vectorize(myfunc)(mat)\n",
        "print(answer2a)\n",
        "# Write your code here"
      ],
      "execution_count": null,
      "outputs": [
        {
          "output_type": "stream",
          "name": "stdout",
          "text": [
            "[[0.5        0.2        0.1       ]\n",
            " [0.05882353 0.03846154 0.02702703]]\n"
          ]
        }
      ]
    },
    {
      "cell_type": "markdown",
      "metadata": {
        "id": "SMuOfjq7DCkH"
      },
      "source": [
        "# Part 3: Basic Indexing and Slicing"
      ]
    },
    {
      "cell_type": "markdown",
      "metadata": {
        "id": "dxqj_uPbEOik"
      },
      "source": [
        "5. Make a 5x5 NumPy array of all zeros and use indexing and broadcasting to modify it such that all the elements not on the border are 1, for example"
      ]
    },
    {
      "cell_type": "code",
      "metadata": {
        "colab": {
          "base_uri": "https://localhost:8080/"
        },
        "id": "5Le5dW3IEh6_",
        "outputId": "e66e2fac-7550-46c0-fea1-c99a5e6b73ff"
      },
      "source": [
        "output_sample = np.array([[0,0,0,0,0],[0,1,1,1,0],[0,1,1,1,0],[0,1,1,1,0],[0,0,0,0,0]])\n",
        "output_sample"
      ],
      "execution_count": null,
      "outputs": [
        {
          "output_type": "execute_result",
          "data": {
            "text/plain": [
              "array([[0, 0, 0, 0, 0],\n",
              "       [0, 1, 1, 1, 0],\n",
              "       [0, 1, 1, 1, 0],\n",
              "       [0, 1, 1, 1, 0],\n",
              "       [0, 0, 0, 0, 0]])"
            ]
          },
          "metadata": {},
          "execution_count": 73
        }
      ]
    },
    {
      "cell_type": "code",
      "metadata": {
        "id": "A7jJSywYXIvr",
        "colab": {
          "base_uri": "https://localhost:8080/"
        },
        "outputId": "4f40519f-71c8-4711-9706-2e081fec8fcc"
      },
      "source": [
        "temp2 = np.array([[0,0,0,0,0],[0,0,0,0,0],[0,0,0,0,0],[0,0,0,0,0],[0,0,0,0,0]])\n",
        "for i in range(5):\n",
        "  for j in range(5):\n",
        "    if(i==0 or j==0 or i==4 or j==4):\n",
        "      temp2[i][j]=0\n",
        "    else:\n",
        "      temp2[i][j]=1\n",
        "temp2\n",
        "#write your code here"
      ],
      "execution_count": null,
      "outputs": [
        {
          "output_type": "execute_result",
          "data": {
            "text/plain": [
              "array([[0, 0, 0, 0, 0],\n",
              "       [0, 1, 1, 1, 0],\n",
              "       [0, 1, 1, 1, 0],\n",
              "       [0, 1, 1, 1, 0],\n",
              "       [0, 0, 0, 0, 0]])"
            ]
          },
          "metadata": {},
          "execution_count": 74
        }
      ]
    },
    {
      "cell_type": "markdown",
      "metadata": {
        "id": "K0hJTUXkFdfA"
      },
      "source": [
        "6. Given the 3x3x3, 3-dimensional NumPy array"
      ]
    },
    {
      "cell_type": "code",
      "metadata": {
        "colab": {
          "base_uri": "https://localhost:8080/"
        },
        "id": "POO1yEFNGQnT",
        "outputId": "42f46430-c7b7-4b35-cd35-7ca889cc9975"
      },
      "source": [
        "arr = np.arange(27).reshape((3,3,3))\n",
        "arr"
      ],
      "execution_count": null,
      "outputs": [
        {
          "output_type": "execute_result",
          "data": {
            "text/plain": [
              "array([[[ 0,  1,  2],\n",
              "        [ 3,  4,  5],\n",
              "        [ 6,  7,  8]],\n",
              "\n",
              "       [[ 9, 10, 11],\n",
              "        [12, 13, 14],\n",
              "        [15, 16, 17]],\n",
              "\n",
              "       [[18, 19, 20],\n",
              "        [21, 22, 23],\n",
              "        [24, 25, 26]]])"
            ]
          },
          "metadata": {},
          "execution_count": 75
        }
      ]
    },
    {
      "cell_type": "markdown",
      "metadata": {
        "id": "J0VtaaOtG2dH"
      },
      "source": [
        "i. Slice this matrix to contain only second and third rows, first and second columns of the given matrix."
      ]
    },
    {
      "cell_type": "code",
      "source": [
        "sample_output = np.array([[[3,4],[6,7]],[[12,13],[15,16]],[[21,22],[24,25]]])\n",
        "sample_output"
      ],
      "metadata": {
        "colab": {
          "base_uri": "https://localhost:8080/"
        },
        "id": "0NnEUUN-gOB5",
        "outputId": "7ee51eed-498a-4216-d6f3-b0a08adeb17b"
      },
      "execution_count": null,
      "outputs": [
        {
          "output_type": "execute_result",
          "data": {
            "text/plain": [
              "array([[[ 3,  4],\n",
              "        [ 6,  7]],\n",
              "\n",
              "       [[12, 13],\n",
              "        [15, 16]],\n",
              "\n",
              "       [[21, 22],\n",
              "        [24, 25]]])"
            ]
          },
          "metadata": {},
          "execution_count": 76
        }
      ]
    },
    {
      "cell_type": "code",
      "metadata": {
        "id": "TvzAXsUDXNA7",
        "colab": {
          "base_uri": "https://localhost:8080/"
        },
        "outputId": "b7bb4b6c-f1b5-4df9-b2e7-9dbfdc4e2423"
      },
      "source": [
        "arr1 = [[[ 0,  1,  2],\n",
        "        [ 3,  4,  5],\n",
        "        [ 6,  7,  8]],\n",
        "\n",
        "       [[ 9, 10, 11],\n",
        "        [12, 13, 14],\n",
        "        [15, 16, 17]],\n",
        "\n",
        "       [[18, 19, 20],\n",
        "        [21, 22, 23],\n",
        "        [24, 25, 26]]]\n",
        "arr2 = np.array(arr1)\n",
        "answer3 = arr2[:,1:3,0:2]\n",
        "answer3\n",
        "#write your code here"
      ],
      "execution_count": null,
      "outputs": [
        {
          "output_type": "execute_result",
          "data": {
            "text/plain": [
              "array([[[ 3,  4],\n",
              "        [ 6,  7]],\n",
              "\n",
              "       [[12, 13],\n",
              "        [15, 16]],\n",
              "\n",
              "       [[21, 22],\n",
              "        [24, 25]]])"
            ]
          },
          "metadata": {},
          "execution_count": 77
        }
      ]
    },
    {
      "cell_type": "markdown",
      "metadata": {
        "id": "NBGc_zTdHxWD"
      },
      "source": [
        "ii. Output a two dimensional matrix as shown below"
      ]
    },
    {
      "cell_type": "code",
      "metadata": {
        "colab": {
          "base_uri": "https://localhost:8080/"
        },
        "id": "Y2WOfAhGH-O7",
        "outputId": "e469e38e-1f71-4b1a-8627-388c8abbe133"
      },
      "source": [
        "sample_output = np.array([[0,3,6],[9,12,15],[18,21,14]])\n",
        "sample_output"
      ],
      "execution_count": null,
      "outputs": [
        {
          "output_type": "execute_result",
          "data": {
            "text/plain": [
              "array([[ 0,  3,  6],\n",
              "       [ 9, 12, 15],\n",
              "       [18, 21, 14]])"
            ]
          },
          "metadata": {},
          "execution_count": 78
        }
      ]
    },
    {
      "cell_type": "code",
      "metadata": {
        "id": "4PmA4j3cXVfe",
        "colab": {
          "base_uri": "https://localhost:8080/"
        },
        "outputId": "2f6e71f1-8790-4a25-d3d2-a9457b39075a"
      },
      "source": [
        "x = np.empty((3, 3),dtype='int')\n",
        "counter = 0\n",
        "for i in range(3):\n",
        "  for j in range(3):\n",
        "    x[i][j]=counter\n",
        "    counter = counter + 3\n",
        "x\n",
        "#write your code here"
      ],
      "execution_count": null,
      "outputs": [
        {
          "output_type": "execute_result",
          "data": {
            "text/plain": [
              "array([[ 0,  3,  6],\n",
              "       [ 9, 12, 15],\n",
              "       [18, 21, 24]])"
            ]
          },
          "metadata": {},
          "execution_count": 79
        }
      ]
    },
    {
      "cell_type": "markdown",
      "metadata": {
        "id": "ARJHpbXiIe5p"
      },
      "source": [
        "# Part 4: Boolean Indexing"
      ]
    },
    {
      "cell_type": "markdown",
      "metadata": {
        "id": "evJTyDSOIpcT"
      },
      "source": [
        "7. Given the following array, modify it such that even values stay the same and output contains 0s instead of odd values"
      ]
    },
    {
      "cell_type": "code",
      "metadata": {
        "colab": {
          "base_uri": "https://localhost:8080/"
        },
        "id": "aCzMmII5I3OV",
        "outputId": "dd58c46c-eb1c-46e4-d22e-686f05affdad"
      },
      "source": [
        "arr = np.arange(9).reshape((3,3))\n",
        "arr"
      ],
      "execution_count": null,
      "outputs": [
        {
          "output_type": "execute_result",
          "data": {
            "text/plain": [
              "array([[0, 1, 2],\n",
              "       [3, 4, 5],\n",
              "       [6, 7, 8]])"
            ]
          },
          "metadata": {},
          "execution_count": 80
        }
      ]
    },
    {
      "cell_type": "code",
      "metadata": {
        "colab": {
          "base_uri": "https://localhost:8080/"
        },
        "id": "cUYDN-utI631",
        "outputId": "f2964621-cd84-41fa-898d-b6e88ef9ba14"
      },
      "source": [
        "sample_output = np.array([[0,0,2],[0,4,0],[6,0,8]])\n",
        "sample_output"
      ],
      "execution_count": null,
      "outputs": [
        {
          "output_type": "execute_result",
          "data": {
            "text/plain": [
              "array([[0, 0, 2],\n",
              "       [0, 4, 0],\n",
              "       [6, 0, 8]])"
            ]
          },
          "metadata": {},
          "execution_count": 81
        }
      ]
    },
    {
      "cell_type": "code",
      "metadata": {
        "id": "h2Z4fsdMXanz",
        "colab": {
          "base_uri": "https://localhost:8080/"
        },
        "outputId": "3b33def2-026a-4e62-fbb0-ca207a83c901"
      },
      "source": [
        "answer4 = np.arange(9).reshape((3,3))\n",
        "for i in range(3):\n",
        "  for j in range(3):\n",
        "    if answer4[i][j]%2 == 1:\n",
        "      answer4[i][j] = 0\n",
        "answer4\n",
        "#write your code here"
      ],
      "execution_count": null,
      "outputs": [
        {
          "output_type": "execute_result",
          "data": {
            "text/plain": [
              "array([[0, 0, 2],\n",
              "       [0, 4, 0],\n",
              "       [6, 0, 8]])"
            ]
          },
          "metadata": {},
          "execution_count": 82
        }
      ]
    },
    {
      "cell_type": "markdown",
      "metadata": {
        "id": "ldtjYhuINJTS"
      },
      "source": [
        "# Part 5: Fancy Indexing"
      ]
    },
    {
      "cell_type": "markdown",
      "metadata": {
        "id": "MuId5CADOEil"
      },
      "source": [
        "8. For the given matrix, use fancy indexing to output a 2d matrix consisting all the even elements of the given matrix"
      ]
    },
    {
      "cell_type": "code",
      "metadata": {
        "colab": {
          "base_uri": "https://localhost:8080/"
        },
        "id": "OTq0propOlxk",
        "outputId": "8973968e-2099-4b79-9976-2963bd6e6211"
      },
      "source": [
        "arr = np.arange(32).reshape((8, 4))\n",
        "arr"
      ],
      "execution_count": null,
      "outputs": [
        {
          "output_type": "execute_result",
          "data": {
            "text/plain": [
              "array([[ 0,  1,  2,  3],\n",
              "       [ 4,  5,  6,  7],\n",
              "       [ 8,  9, 10, 11],\n",
              "       [12, 13, 14, 15],\n",
              "       [16, 17, 18, 19],\n",
              "       [20, 21, 22, 23],\n",
              "       [24, 25, 26, 27],\n",
              "       [28, 29, 30, 31]])"
            ]
          },
          "metadata": {},
          "execution_count": 83
        }
      ]
    },
    {
      "cell_type": "code",
      "metadata": {
        "colab": {
          "base_uri": "https://localhost:8080/"
        },
        "id": "ghhE7MRVOrqX",
        "outputId": "71e73131-2d9f-4b20-e598-c3fc511f35e4"
      },
      "source": [
        "sample_output = np.array([[ 0,  2],\n",
        "       [ 4,  6],\n",
        "       [ 8, 10],\n",
        "       [12, 14],\n",
        "       [16, 18],\n",
        "       [20, 22],\n",
        "       [24, 26],\n",
        "       [28, 30]])\n",
        "sample_output"
      ],
      "execution_count": null,
      "outputs": [
        {
          "output_type": "execute_result",
          "data": {
            "text/plain": [
              "array([[ 0,  2],\n",
              "       [ 4,  6],\n",
              "       [ 8, 10],\n",
              "       [12, 14],\n",
              "       [16, 18],\n",
              "       [20, 22],\n",
              "       [24, 26],\n",
              "       [28, 30]])"
            ]
          },
          "metadata": {},
          "execution_count": 84
        }
      ]
    },
    {
      "cell_type": "code",
      "metadata": {
        "id": "HOPNWQLRXhqI",
        "colab": {
          "base_uri": "https://localhost:8080/"
        },
        "outputId": "8dbd1f88-59a2-448b-96d6-6862a5e6e9b8"
      },
      "source": [
        "answer5 = np.arange(32).reshape((8, 4))\n",
        "answer5 = np.delete(answer5, 1, 1)\n",
        "answer5 = np.delete(answer5, 2, 1)\n",
        "answer5\n",
        "# Write your code here"
      ],
      "execution_count": null,
      "outputs": [
        {
          "output_type": "execute_result",
          "data": {
            "text/plain": [
              "array([[ 0,  2],\n",
              "       [ 4,  6],\n",
              "       [ 8, 10],\n",
              "       [12, 14],\n",
              "       [16, 18],\n",
              "       [20, 22],\n",
              "       [24, 26],\n",
              "       [28, 30]])"
            ]
          },
          "metadata": {},
          "execution_count": 91
        }
      ]
    },
    {
      "cell_type": "markdown",
      "metadata": {
        "id": "xj5lX_02SOa5"
      },
      "source": [
        "# Part 6: Expressing Conditional Logic as Array Operations\n",
        "\n"
      ]
    },
    {
      "cell_type": "markdown",
      "metadata": {
        "id": "BeZCKBFmScZW"
      },
      "source": [
        "Given two following matrices, use conditional logic to replace all the odd elements of matrix A with even elements of matrix B"
      ]
    },
    {
      "cell_type": "code",
      "metadata": {
        "colab": {
          "base_uri": "https://localhost:8080/"
        },
        "id": "amG797QGShmQ",
        "outputId": "f4ed3ed1-02af-4462-e259-502e56f44be2"
      },
      "source": [
        "A = np.arange(9).reshape((3,3))\n",
        "B = np.arange(1,10).reshape((3,3))\n",
        "print(A)\n",
        "print(B)"
      ],
      "execution_count": null,
      "outputs": [
        {
          "output_type": "stream",
          "name": "stdout",
          "text": [
            "[[0 1 2]\n",
            " [3 4 5]\n",
            " [6 7 8]]\n",
            "[[1 2 3]\n",
            " [4 5 6]\n",
            " [7 8 9]]\n"
          ]
        }
      ]
    },
    {
      "cell_type": "code",
      "metadata": {
        "colab": {
          "base_uri": "https://localhost:8080/"
        },
        "id": "LvvT-mkFS9Fo",
        "outputId": "920bd7f4-36f2-4e92-f49b-4c3b3a904513"
      },
      "source": [
        "sample_output = np.array([[0, 2, 2],\n",
        "       [4, 4, 6],\n",
        "       [6, 8, 8]])\n",
        "sample_output"
      ],
      "execution_count": null,
      "outputs": [
        {
          "output_type": "execute_result",
          "data": {
            "text/plain": [
              "array([[0, 2, 2],\n",
              "       [4, 4, 6],\n",
              "       [6, 8, 8]])"
            ]
          },
          "metadata": {},
          "execution_count": 87
        }
      ]
    },
    {
      "cell_type": "code",
      "metadata": {
        "id": "NFsduXBoXncx",
        "colab": {
          "base_uri": "https://localhost:8080/"
        },
        "outputId": "21777c28-4148-4cad-d35e-98ee15a3d9a0"
      },
      "source": [
        "A1 = np.arange(9).reshape((3,3))\n",
        "B1 = np.arange(1,10).reshape((3,3))\n",
        "for i in range(3):\n",
        "  for j in range(3):\n",
        "    if A1[i][j]%2 == 1:\n",
        "      A1[i][j] = B1[i][j]\n",
        "\n",
        "A1  \n",
        "# Write your code here"
      ],
      "execution_count": null,
      "outputs": [
        {
          "output_type": "execute_result",
          "data": {
            "text/plain": [
              "array([[0, 2, 2],\n",
              "       [4, 4, 6],\n",
              "       [6, 8, 8]])"
            ]
          },
          "metadata": {},
          "execution_count": 92
        }
      ]
    },
    {
      "cell_type": "markdown",
      "metadata": {
        "id": "11T_pvkoUrIb"
      },
      "source": [
        "# Part 7: Linear Algebra"
      ]
    },
    {
      "cell_type": "markdown",
      "metadata": {
        "id": "z44KXIq9Uu8E"
      },
      "source": [
        "Given the following system of equations, solve for x and y using either `numpy.linalg.solve(m1,m2)` or using `inv` and `dot`\n",
        "\n",
        "2x + 5y = 20\n",
        "\n",
        "3x + 6y = 12"
      ]
    },
    {
      "cell_type": "code",
      "metadata": {
        "id": "XVppUEYjp-7a",
        "colab": {
          "base_uri": "https://localhost:8080/"
        },
        "outputId": "7e44f112-3ca2-4e21-91ce-53ff2df8fb00"
      },
      "source": [
        "a = np.array(([[2, 5], [3, 6]]),dtype='int')\n",
        "b = np.array(([20, 12]),dtype='int')\n",
        "x = np.linalg.solve(a, b)\n",
        "answer7 = x.astype(int)\n",
        "answer7\n",
        "#write your code here"
      ],
      "execution_count": null,
      "outputs": [
        {
          "output_type": "execute_result",
          "data": {
            "text/plain": [
              "array([-20,  12])"
            ]
          },
          "metadata": {},
          "execution_count": 94
        }
      ]
    }
  ]
}